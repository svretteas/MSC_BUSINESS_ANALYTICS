{
 "cells": [
  {
   "cell_type": "code",
   "execution_count": null,
   "metadata": {},
   "outputs": [],
   "source": [
    "######  SPARK ASSIGNMENT - P2822003 - VRETTEAS STYLIANOS ######\n",
    "\n",
    "## PREPARATION  \n",
    "\n",
    "# load basic packages\n",
    "import findspark\n",
    "from pyspark.sql import SparkSession\n",
    "import pyspark.sql.types as T\n",
    "import pyspark.sql.functions as F \n",
    "# from pyspark.sql import Window\n",
    "\n",
    "\n",
    "findspark.init()\n",
    "\n",
    "spark =  SparkSession.builder.appName(\"test\").getOrCreate()\n",
    "spark\n",
    "\n",
    "#load data\n",
    "flights_data = spark.read\\\n",
    "                    .option(\"header\",\"true\")\\\n",
    "                    .option(\"inferSchema\",\"true\")\\\n",
    "                    .csv(\"671009038_T_ONTIME_REPORTING.csv\")"
   ]
  },
  {
   "cell_type": "code",
   "execution_count": null,
   "metadata": {},
   "outputs": [],
   "source": [
    "# count flights_data last check\n",
    "n1 = flights_data.count()\n",
    "print(\"number of rows all data:\", n1)\n",
    "n2 = flights_data.dropDuplicates().count()\n",
    "print(\"number of rows after deleting duplicates:\", n2)\n",
    "n3 = n1 - n2 \n",
    "print(\"duplicate_data:\", n3)\n",
    "\n",
    "# drop duplicates \n",
    "flights_data = flights_data.dropDuplicates()\n",
    "print(\"number of rows final:\", flights_data.count())\n"
   ]
  },
  {
   "cell_type": "code",
   "execution_count": null,
   "metadata": {},
   "outputs": [],
   "source": [
    "## TASK 3\n",
    "\n",
    "# load packages\n",
    "import pyspark.mllib\n",
    "import pyspark.mllib.regression\n",
    "from pyspark.ml.feature import StringIndexer"
   ]
  },
  {
   "cell_type": "code",
   "execution_count": null,
   "metadata": {},
   "outputs": [],
   "source": [
    "# create df3\n",
    "df3 = flights_data.select(\"DEP_DELAY\",\"ORIGIN\",\"CARRIER\",\"DEP_TIME\")\n",
    "df3=flights_data.filter(flights_data.DEP_DELAY.isNotNull())"
   ]
  },
  {
   "cell_type": "code",
   "execution_count": null,
   "metadata": {},
   "outputs": [],
   "source": [
    "# unique values of ORIGIN (360 labels)\n",
    "df3.select(\"ORIGIN\").distinct().count()\n"
   ]
  },
  {
   "cell_type": "code",
   "execution_count": null,
   "metadata": {},
   "outputs": [],
   "source": [
    "# unique values of CARRIER (17 labels)\n",
    "df3.select(\"CARRIER\").distinct().count()"
   ]
  },
  {
   "cell_type": "code",
   "execution_count": null,
   "metadata": {},
   "outputs": [],
   "source": [
    "# check types\n",
    "df3.dtypes"
   ]
  },
  {
   "cell_type": "code",
   "execution_count": null,
   "metadata": {},
   "outputs": [],
   "source": [
    "# DEP_TIME converst to string first\n",
    "df3 = df3.withColumn(\"DEP_TIME\",df3[\"DEP_TIME\"].cast(T.StringType()))"
   ]
  },
  {
   "cell_type": "code",
   "execution_count": null,
   "metadata": {},
   "outputs": [],
   "source": [
    "# converted DEP_TIME\n",
    "df3.dtypes"
   ]
  },
  {
   "cell_type": "code",
   "execution_count": null,
   "metadata": {},
   "outputs": [],
   "source": [
    "# transformation fill with leading zeros \n",
    "df3 = df3.withColumn('DEP_TIME', F.format_string(\"%04d\", F.col('DEP_TIME').cast(\"int\"))) \n",
    "df3.show(10)"
   ]
  },
  {
   "cell_type": "code",
   "execution_count": null,
   "metadata": {},
   "outputs": [],
   "source": [
    "# check dtypes\n",
    "df3 = df3.withColumn(\"DEP_TIME\",df3[\"DEP_TIME\"].cast(T.StringType()))\n",
    "print(df3.dtypes)"
   ]
  },
  {
   "cell_type": "code",
   "execution_count": null,
   "metadata": {},
   "outputs": [],
   "source": [
    "# create new column with only two digts \n",
    "\n",
    "df3 = df3.withColumn(\"DEP_TIME_HOUR\", df3.DEP_TIME.substr(1,2))\n",
    "df3.show()\n",
    "\n",
    "df3.select(\"DEP_TIME_HOUR\").distinct().count()\n"
   ]
  },
  {
   "cell_type": "code",
   "execution_count": null,
   "metadata": {},
   "outputs": [],
   "source": [
    "# see the nu value \n",
    "df3.select(\"DEP_TIME_HOUR\").distinct().show()\n"
   ]
  },
  {
   "cell_type": "code",
   "execution_count": null,
   "metadata": {},
   "outputs": [],
   "source": [
    "# replace nu value with \"cancelled\"\n",
    "\n",
    "df3 = df3.withColumn(\"DEP_TIME_HOUR\", F.regexp_replace(\"DEP_TIME_HOUR\", \"nu\", \"cancelled\"))\n",
    "\n",
    "df3.select(\"DEP_TIME_HOUR\").distinct().show()"
   ]
  },
  {
   "cell_type": "code",
   "execution_count": null,
   "metadata": {},
   "outputs": [],
   "source": [
    "# check outliers\n",
    "df_outliers3 = df3.select(\"ORIGIN\")\n",
    "\n",
    "df_outliers_group3 = df_outliers3.groupBy(\"ORIGIN\").count()\n",
    "\n",
    "df_outliers_group3.orderBy(\"count\", ascending = True).show()"
   ]
  },
  {
   "cell_type": "code",
   "execution_count": null,
   "metadata": {},
   "outputs": [],
   "source": [
    "# CHECK OUTLIERS in the number of flights \n",
    "outliers3 = df_outliers_group3.approxQuantile(\"count\", [0.01], 0.0)\n",
    "outliers3\n"
   ]
  },
  {
   "cell_type": "code",
   "execution_count": null,
   "metadata": {},
   "outputs": [],
   "source": [
    "# filter df2 ( remove the outliers)\n",
    "df3 = df3.filter(~F.col(\"ORIGIN\").isin([\"AKN\",\"PGV\",\"GST\",\"DLG\"]))\n",
    "df3.count()\n"
   ]
  },
  {
   "cell_type": "code",
   "execution_count": null,
   "metadata": {},
   "outputs": [],
   "source": [
    "## import Linear Regression packages \n",
    "\n",
    "from pyspark.ml.evaluation import RegressionEvaluator\n",
    "from pyspark.ml.evaluation import RegressionEvaluator\n",
    "from pyspark.ml.regression import LinearRegression\n",
    "from pyspark.ml.tuning import ParamGridBuilder, TrainValidationSplit\n",
    "from pyspark.mllib.linalg import DenseVector\n",
    "from pyspark.ml.feature import StringIndexer\n",
    "from pyspark.ml.feature import OneHotEncoder\n",
    "#from pyspark.ml.feature import OneHotEncoderEstimator # not used \n",
    "from pyspark.ml.feature import VectorAssembler\n",
    "from pyspark.ml import Pipeline\n"
   ]
  },
  {
   "cell_type": "code",
   "execution_count": null,
   "metadata": {},
   "outputs": [],
   "source": [
    "# string indexer ORIGIN\n",
    "\n",
    "indexer = StringIndexer()\\\n",
    ".setInputCol(\"ORIGIN\")\\\n",
    ".setOutputCol(\"ORIGIN_INDEXED\")\n"
   ]
  },
  {
   "cell_type": "code",
   "execution_count": null,
   "metadata": {},
   "outputs": [],
   "source": [
    "# one hot encoder ORIGIN\n",
    "encoder = OneHotEncoder(dropLast=False)\\\n",
    ".setInputCols([\"ORIGIN_INDEXED\"])\\\n",
    ".setOutputCols([\"ORIGIN_ENCODED\"])\n"
   ]
  },
  {
   "cell_type": "code",
   "execution_count": null,
   "metadata": {},
   "outputs": [],
   "source": [
    "# string indexer CARRIER\n",
    "\n",
    "indexer2 = StringIndexer()\\\n",
    ".setInputCol(\"CARRIER\")\\\n",
    ".setOutputCol(\"CARRIER_INDEXED\")"
   ]
  },
  {
   "cell_type": "code",
   "execution_count": null,
   "metadata": {},
   "outputs": [],
   "source": [
    "# one hot encoder CARRIER\n",
    "encoder2 = OneHotEncoder(dropLast=False)\\\n",
    ".setInputCols([\"CARRIER_INDEXED\"])\\\n",
    ".setOutputCols([\"CARRIER_ENCODED\"])"
   ]
  },
  {
   "cell_type": "code",
   "execution_count": null,
   "metadata": {},
   "outputs": [],
   "source": [
    "# string indexer DEP_TIME_HOUR\n",
    "\n",
    "indexer3 = StringIndexer()\\\n",
    ".setInputCol(\"DEP_TIME_HOUR\")\\\n",
    ".setOutputCol(\"DEP_TIME_HOUR_INDEXED\")"
   ]
  },
  {
   "cell_type": "code",
   "execution_count": null,
   "metadata": {},
   "outputs": [],
   "source": [
    "# one hot encoder DEP_TIME_HOUR\n",
    "encoder3 = OneHotEncoder(dropLast=False)\\\n",
    ".setInputCols([\"DEP_TIME_HOUR_INDEXED\"])\\\n",
    ".setOutputCols([\"DEP_TIME_HOUR_ENCODED\"])\n"
   ]
  },
  {
   "cell_type": "code",
   "execution_count": null,
   "metadata": {},
   "outputs": [],
   "source": [
    "# vector_assembler\n",
    "vector_assembler = VectorAssembler()\\\n",
    ".setInputCols([\"ORIGIN_ENCODED\", \"CARRIER_ENCODED\", \"DEP_TIME_HOUR_ENCODED\"])\\\n",
    ".setOutputCol(\"FEATURES\")\n"
   ]
  },
  {
   "cell_type": "code",
   "execution_count": null,
   "metadata": {},
   "outputs": [],
   "source": [
    "# Import Pipeline\n",
    " pipe = Pipeline(stages=[indexer, encoder, indexer2, encoder2, indexer3, encoder3, vector_assembler])"
   ]
  },
  {
   "cell_type": "code",
   "execution_count": null,
   "metadata": {},
   "outputs": [],
   "source": [
    " # Fit and transform the data\n",
    "piped_data = pipe.fit(df3).transform(df3)"
   ]
  },
  {
   "cell_type": "code",
   "execution_count": null,
   "metadata": {},
   "outputs": [],
   "source": [
    "# Split the data into training and test sets( use 70 - 30 split)\n",
    "training, test = piped_data.randomSplit([.7, .3])\n"
   ]
  },
  {
   "cell_type": "code",
   "execution_count": null,
   "metadata": {},
   "outputs": [],
   "source": [
    "# linear model\n",
    "lr = LinearRegression(featuresCol ='FEATURES', labelCol ='DEP_DELAY',regParam=0.7, elasticNetParam=0.8)"
   ]
  },
  {
   "cell_type": "code",
   "execution_count": null,
   "metadata": {},
   "outputs": [],
   "source": [
    "# Fit the model\n",
    "lrModel = lr.fit(training)\n"
   ]
  },
  {
   "cell_type": "code",
   "execution_count": null,
   "metadata": {},
   "outputs": [],
   "source": [
    "# summary of the model and RMSE (mean squared error)\n",
    "summary = lrModel.summary\n",
    "summary.rootMeanSquaredError"
   ]
  },
  {
   "cell_type": "code",
   "execution_count": null,
   "metadata": {},
   "outputs": [],
   "source": [
    "# predictions - show first 10 \n",
    "predictions = lrModel.transform(test)\n",
    "predictions.show(10)"
   ]
  },
  {
   "cell_type": "code",
   "execution_count": null,
   "metadata": {},
   "outputs": [],
   "source": [
    "# actual vs fitted values \n",
    "\n",
    "act_fit = predictions.select(\"DEP_DELAY\",\"ORIGIN\",\"CARRIER\",\"DEP_TIME_HOUR\",\"prediction\")\n",
    "\n",
    "act_fit.show(10)"
   ]
  },
  {
   "cell_type": "code",
   "execution_count": null,
   "metadata": {},
   "outputs": [],
   "source": [
    "# Model evaluation on test data \n",
    "\n",
    "lr_predictions = lrModel.transform(test)\n",
    "lr_predictions.select(\"prediction\",\"DEP_DELAY\",\"FEATURES\").show(5)"
   ]
  },
  {
   "cell_type": "code",
   "execution_count": null,
   "metadata": {},
   "outputs": [],
   "source": [
    "lr_evaluator = RegressionEvaluator(predictionCol=\"prediction\", \\\n",
    "                 labelCol=\"DEP_DELAY\",metricName=\"r2\")\n",
    "print(\"R Squared (R2) on test data = %g\" % lr_evaluator.evaluate(lr_predictions))\n"
   ]
  },
  {
   "cell_type": "code",
   "execution_count": null,
   "metadata": {},
   "outputs": [],
   "source": [
    "test_result = lrModel.evaluate(test)\n",
    "print(\"Root Mean Squared Error (RMSE) on test data = %g\" % test_result.rootMeanSquaredError)"
   ]
  }
 ],
 "metadata": {
  "kernelspec": {
   "display_name": "Python 3",
   "language": "python",
   "name": "python3"
  },
  "language_info": {
   "codemirror_mode": {
    "name": "ipython",
    "version": 3
   },
   "file_extension": ".py",
   "mimetype": "text/x-python",
   "name": "python",
   "nbconvert_exporter": "python",
   "pygments_lexer": "ipython3",
   "version": "3.8.5"
  }
 },
 "nbformat": 4,
 "nbformat_minor": 4
}
