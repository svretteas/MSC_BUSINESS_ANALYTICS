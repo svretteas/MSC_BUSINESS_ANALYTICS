{
 "cells": [
  {
   "cell_type": "code",
   "execution_count": null,
   "metadata": {},
   "outputs": [],
   "source": [
    "######  SPARK ASSIGNMENT - P2822003 - VRETTEAS STYLIANOS ######"
   ]
  },
  {
   "cell_type": "code",
   "execution_count": null,
   "metadata": {},
   "outputs": [],
   "source": [
    "## PREPARATION  \n",
    "\n",
    "# load basic packages\n",
    "import findspark\n",
    "from pyspark.sql import SparkSession\n",
    "import pyspark.sql.types as T\n",
    "import pyspark.sql.functions as F \n",
    "# from pyspark.sql import Window"
   ]
  },
  {
   "cell_type": "code",
   "execution_count": null,
   "metadata": {},
   "outputs": [],
   "source": [
    "\n",
    "findspark.init()\n",
    "\n",
    "spark =  SparkSession.builder.appName(\"test\").getOrCreate()\n",
    "spark\n"
   ]
  },
  {
   "cell_type": "code",
   "execution_count": null,
   "metadata": {},
   "outputs": [],
   "source": [
    "#load data\n",
    "flights_data = spark.read\\\n",
    "                    .option(\"header\",\"true\")\\\n",
    "                    .option(\"inferSchema\",\"true\")\\\n",
    "                    .csv(\"671009038_T_ONTIME_REPORTING.csv\")"
   ]
  },
  {
   "cell_type": "code",
   "execution_count": null,
   "metadata": {},
   "outputs": [],
   "source": [
    "# count flights_data last check\n",
    "n1 = flights_data.count()\n",
    "print(\"number of rows all data:\", n1)\n",
    "n2 = flights_data.dropDuplicates().count()\n",
    "print(\"number of rows after deleting duplicates:\", n2)\n",
    "n3 = n1 - n2 \n",
    "print(\"duplicate_data:\", n3)\n",
    "\n",
    "# display details about the dataframe \n",
    "#display(flights_data)"
   ]
  },
  {
   "cell_type": "code",
   "execution_count": null,
   "metadata": {},
   "outputs": [],
   "source": [
    "# drop duplicates \n",
    "flights_data = flights_data.dropDuplicates()\n",
    "print(\"number of rows final:\", flights_data.count())"
   ]
  },
  {
   "cell_type": "code",
   "execution_count": null,
   "metadata": {},
   "outputs": [],
   "source": [
    "### TASK 1           \n",
    "\n",
    "\n",
    "df_delay = flights_data.select(\"FL_DATE\",\"ORIGIN\",\"TAIL_NUM\",\n",
    "                               \"CARRIER\",\n",
    "                               \"DEP_DELAY\",\n",
    "                               \"ARR_DELAY\")\n",
    "df_delay.show(5)"
   ]
  },
  {
   "cell_type": "code",
   "execution_count": null,
   "metadata": {},
   "outputs": [],
   "source": [
    "# count\n",
    "n100 = df_delay.count()\n",
    "print(\"number of rows df_delay:\", n100)\n",
    "n200 = df_delay.dropDuplicates().count()\n",
    "print(\"number of rows after deleting duplicates:\", n200)\n",
    "n300 = n100 - n200 \n",
    "print(\"duplicate_data:\", n300)"
   ]
  },
  {
   "cell_type": "code",
   "execution_count": null,
   "metadata": {},
   "outputs": [],
   "source": [
    "# remove duplicates from df_delay\n",
    "df_delay = df_delay.dropDuplicates()"
   ]
  },
  {
   "cell_type": "code",
   "execution_count": null,
   "metadata": {},
   "outputs": [],
   "source": [
    "# create df_delay1 \n",
    "df_delay1 =df_delay.select(\"FL_DATE\",\"ORIGIN\",\"TAIL_NUM\",\"CARRIER\",\"DEP_DELAY\")\n",
    "df_delay1.show(5)"
   ]
  },
  {
   "cell_type": "code",
   "execution_count": null,
   "metadata": {},
   "outputs": [],
   "source": [
    "# AVG_DELAY_BOTH\n",
    "\n",
    "AVG_DELAY_BOTH = df_delay.select(F.avg(\"ARR_DELAY\"),F.avg(\"DEP_DELAY\")).show()  "
   ]
  },
  {
   "cell_type": "code",
   "execution_count": null,
   "metadata": {},
   "outputs": [],
   "source": [
    "# AVG_DEP_DELAY ALL\n",
    "\n",
    "AVG_DEP_DELAY = df_delay.select(F.avg(\"DEP_DELAY\")).show()"
   ]
  },
  {
   "cell_type": "code",
   "execution_count": null,
   "metadata": {},
   "outputs": [],
   "source": [
    "# AVG_ARR_DELAY ALL\n",
    "\n",
    "AVG_ARR_DELAY =  df_delay.select(F.avg(\"ARR_DELAY\")).show()"
   ]
  }
 ],
 "metadata": {
  "kernelspec": {
   "display_name": "Python 3",
   "language": "python",
   "name": "python3"
  },
  "language_info": {
   "codemirror_mode": {
    "name": "ipython",
    "version": 3
   },
   "file_extension": ".py",
   "mimetype": "text/x-python",
   "name": "python",
   "nbconvert_exporter": "python",
   "pygments_lexer": "ipython3",
   "version": "3.8.5"
  }
 },
 "nbformat": 4,
 "nbformat_minor": 4
}
