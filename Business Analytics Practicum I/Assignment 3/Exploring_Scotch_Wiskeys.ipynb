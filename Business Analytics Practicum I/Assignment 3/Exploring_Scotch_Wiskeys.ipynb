{
 "cells": [
  {
   "cell_type": "markdown",
   "metadata": {},
   "source": [
    "# Exploring Scotch Whiskies\n",
    "\n",
    "In a paper that appeared in 1996, [Pierre Legendre](http://numericalecology.com/) and [F.-J. Lapointe](http://bio.umontreal.ca/repertoire-departement/vue/lapointe-francois-joseph/) performed a classification of pure malt whiskeys. You can find the paper online at http://adn.biol.umontreal.ca/~numericalecology/reprints/Appl%20Stat%2043,%201994.pdf and also some details at http://adn.biol.umontreal.ca/~numericalecology/data/scotch.html.\n",
    "\n",
    "---\n",
    "\n",
    "> Panos Louridas, Associate Professor <br />\n",
    "> Department of Management Science and Technology <br />\n",
    "> Athens University of Economics and Business <br />\n",
    "> louridas@aueb.gr"
   ]
  },
  {
   "cell_type": "markdown",
   "metadata": {},
   "source": [
    "## Questions\n",
    "\n",
    "In this assignment you can go through their findings and explore their data using Machine Learning techniques.\n",
    "\n",
    "### Q1 Score Prediction\n",
    "\n",
    "Try to find a model to predict the score of schotch a whiskey based on the attributes collected by the authors. You can use any algorithm provided by scikit-learn. Evaluate how well your model performs.\n",
    "\n",
    "### Q2 PCA\n",
    "\n",
    "Perform a PCA analysis on the data to reduce the number of dimensions.\n",
    "\n",
    "### Q3 Clustering without Geographical Information\n",
    "\n",
    "Carry out clustering on the data, without taking into account the geographical information (regions, districts, geographical coordinates). You can use any [clustering algorithm provided by scikit-learn](http://scikit-learn.org/stable/modules/clustering.html) that you deem suitable. Remember that as we have stressed repeatedly in class, one of the advantages of scikit-learn is that it presents a uniform interface; so if you know how to use it for some cases, you should have no problem using it on new situations. The result should be a number of clusters based on the whiskey characteristics. Describe the groups, list the whiskeys in each group, and the best whiskey of each group, based on its score. You can also check how close your groups are to those found by the authors.\n",
    "\n",
    "Of course you are free to study and use the [clustering notebook that is available on the course's Google Drive](https://drive.google.com/drive/folders/13R_Q-S4zYJskW4d37Xx6q-23sNAccIqV?usp=sharing).\n",
    "\n",
    "### Q4 Clustering with Geographical Information\n",
    "The data set includes the geographical coordinates of the distilleries. Do a clustering of the distilleries on the geographical coordinates; then check if the clusters you found previously are related to the clusters you derived based on the geographical coordinates."
   ]
  },
  {
   "cell_type": "markdown",
   "metadata": {},
   "source": [
    "## Submission Instructions\n",
    "\n",
    "You will submit a Jupyter notebook that will contain all your code and analysis. Ensure that the notebook will run correctly in a computer that is not your own. That means, among other things, that it does not contain absolute paths. Remember that a notebook is not a collection of code cells thrown together; it should contain as much text as necessary for a person to understand what you are doing."
   ]
  },
  {
   "cell_type": "markdown",
   "metadata": {},
   "source": [
    "## Honor Code\n",
    "\n",
    "You understand that this is an individual assignment, and as such you must carry it out alone. You may seek help on the Internet, by Googling or searching in StackOverflow for general questions pertaining to the use of Python,  libraries, and idioms. However, it is not right to ask direct questions that relate to the assignment and where people will actually solve your problem by answering them. You may discuss with your fellow students in order to better understand the questions, if they are not clear enough, but you should not ask them to share their answers with you, or to help you by giving specific advice."
   ]
  }
 ],
 "metadata": {
  "kernelspec": {
   "display_name": "Python 3",
   "language": "python",
   "name": "python3"
  },
  "language_info": {
   "codemirror_mode": {
    "name": "ipython",
    "version": 3
   },
   "file_extension": ".py",
   "mimetype": "text/x-python",
   "name": "python",
   "nbconvert_exporter": "python",
   "pygments_lexer": "ipython3",
   "version": "3.9.2"
  }
 },
 "nbformat": 4,
 "nbformat_minor": 2
}
